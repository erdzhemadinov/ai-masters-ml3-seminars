{
 "cells": [
  {
   "cell_type": "markdown",
   "id": "7be638b6-71c9-4dc9-ad14-9a62a4d2c415",
   "metadata": {},
   "source": [
    "# 08. Как решать задачи"
   ]
  },
  {
   "cell_type": "markdown",
   "id": "4064b8cb-8f10-4618-b262-4fefdf7bbce4",
   "metadata": {},
   "source": [
    "Основные материалы занятия - в слайдах. Тут задачки для разминки."
   ]
  },
  {
   "cell_type": "code",
   "execution_count": null,
   "id": "b96c7891-476a-459a-8f15-1910e0c67775",
   "metadata": {},
   "outputs": [],
   "source": [
    "import os\n",
    "import glob\n",
    "\n",
    "import numpy as np\n",
    "import pandas as pd\n",
    "\n",
    "import matplotlib.pyplot as plt"
   ]
  },
  {
   "cell_type": "code",
   "execution_count": null,
   "id": "acfe43a5-d455-419e-94be-624414f1b9ab",
   "metadata": {},
   "outputs": [],
   "source": [
    "train_csv_fn = \"./train.csv\""
   ]
  },
  {
   "cell_type": "code",
   "execution_count": null,
   "id": "a60acbc7-b717-4796-87a9-a6150646a201",
   "metadata": {},
   "outputs": [],
   "source": [
    "with open(train_csv_fn, \"rt\") as fp:\n",
    "    train_df = pd.read_csv(fp)\n",
    "train_df.head()"
   ]
  },
  {
   "cell_type": "markdown",
   "id": "b299ae8d-ab99-4c6f-a89b-36e059a321af",
   "metadata": {},
   "source": [
    "**Задача 1**: \n",
    "* Получить распределение количества примеров для всех классов из `train.csv`.\n",
    "* Пусть функция `get_class_counts()` вернет словарь с ключами = метками классов и значениями = количеством примеров данного класса в выборке"
   ]
  },
  {
   "cell_type": "code",
   "execution_count": null,
   "id": "c00c9074-6f13-4e7e-8c73-2df1d4b5c09c",
   "metadata": {},
   "outputs": [],
   "source": [
    "def get_class_counts(df):\n",
    "    \n",
    "    # YOUR CODE HERE\n",
    "    \n",
    "    # ...\n",
    "    # class_counts = ...\n",
    "    # ...\n",
    "    \n",
    "    # END OF YOUR CODE\n",
    "    \n",
    "    return class_counts"
   ]
  },
  {
   "cell_type": "code",
   "execution_count": null,
   "id": "e34841d6-07fb-4c8b-8e4b-867b0e04c7b6",
   "metadata": {},
   "outputs": [],
   "source": [
    "class_counts = get_class_counts(train_df)"
   ]
  },
  {
   "cell_type": "code",
   "execution_count": null,
   "id": "3fff9bc7-8c78-4e38-9ffc-a04b3c62385b",
   "metadata": {},
   "outputs": [],
   "source": [
    "plt.figure(figsize=(16, 6))\n",
    "\n",
    "items = sorted(class_counts.items(), key=lambda x: x[1], reverse=True)\n",
    "xs = [it[0] for it in items]\n",
    "ys = [it[1] for it in items]\n",
    "\n",
    "plt.bar(xs, ys)\n",
    "plt.xticks(xs, rotation=90)\n",
    "\n",
    "plt.grid(True)\n",
    "plt.show()"
   ]
  },
  {
   "cell_type": "markdown",
   "id": "f4d6edab-152a-4f07-b279-c649c06a683b",
   "metadata": {},
   "source": [
    "**Задача 2**:\n",
    "\n",
    "* Используя результаты первой задачи, создайте объект для кросс-энтропийного лосса с весами для классов.\n",
    "* Пусть вес для класса `i` будет вычисляться как `1 / {доля примеров класса i в обучающей выборке}`\n",
    "* Обратите внимание, в каком виде ожидаются веса в конструкторе `CrossEntropyLoss`."
   ]
  },
  {
   "cell_type": "code",
   "execution_count": null,
   "id": "c1e22bde-54e3-49a5-a55f-13be4f9f32dd",
   "metadata": {},
   "outputs": [],
   "source": [
    "import torch\n",
    "\n",
    "from torch.nn import CrossEntropyLoss"
   ]
  },
  {
   "cell_type": "code",
   "execution_count": null,
   "id": "4949d000-82cb-42cd-96ff-1aa352e5d564",
   "metadata": {},
   "outputs": [],
   "source": [
    "def get_weighted_ce_loss(class_counts):\n",
    "    \n",
    "    # YOUR CODE HERE\n",
    "\n",
    "    # ...\n",
    "    # ce_loss = CrossEntropyLoss(weight=...)\n",
    "\n",
    "    # END OF YOUR CODE\n",
    "    \n",
    "    return ce_loss"
   ]
  },
  {
   "cell_type": "code",
   "execution_count": null,
   "id": "739f4527-eb39-479c-8227-922764cf599c",
   "metadata": {},
   "outputs": [],
   "source": [
    "loss_weighted = get_weighted_ce_loss(class_counts)"
   ]
  },
  {
   "cell_type": "code",
   "execution_count": null,
   "id": "d28dfde9-70b6-4ad8-abe6-a1a88372a531",
   "metadata": {},
   "outputs": [],
   "source": [
    "plt.figure(figsize=(16, 6))\n",
    "plt.bar(range(len(loss_weighted.weight)), loss_weighted.weight)\n",
    "plt.xticks(range(len(loss_weighted.weight)), rotation=90)\n",
    "plt.grid(True)"
   ]
  },
  {
   "cell_type": "markdown",
   "id": "8240cb76-01a9-469e-b584-5e3cfa390a12",
   "metadata": {},
   "source": [
    "**Задача 3**:\n",
    "* Написать функцию для вычисления средней яркости изображения (в диапазоне [0..255])"
   ]
  },
  {
   "cell_type": "code",
   "execution_count": null,
   "id": "914a8431-3ea9-4c59-9437-a671d96a0dfe",
   "metadata": {},
   "outputs": [],
   "source": [
    "import cv2"
   ]
  },
  {
   "cell_type": "code",
   "execution_count": null,
   "id": "5dd56a20-fd74-47f9-9e6b-71a9158b0d91",
   "metadata": {},
   "outputs": [],
   "source": [
    "train_images_root = \"./train\""
   ]
  },
  {
   "cell_type": "code",
   "execution_count": null,
   "id": "8ce81592-ca74-47fd-8d50-98cd6a60628f",
   "metadata": {},
   "outputs": [],
   "source": [
    "def compute_image_lightness(basename):\n",
    "    \n",
    "    # YOUR CODE HERE\n",
    "    \n",
    "    # lightness = ...\n",
    "    \n",
    "    # END OF YOUR CODE\n",
    "    \n",
    "    return lightness"
   ]
  },
  {
   "cell_type": "code",
   "execution_count": null,
   "id": "a74cc503-0f44-4210-981c-accc46b6900c",
   "metadata": {},
   "outputs": [],
   "source": [
    "for i in range(8):\n",
    "    basename = train_df[\"filename\"][i]\n",
    "    lightness = compute_image_lightness(basename)\n",
    "    \n",
    "    image = cv2.imread(os.path.join(train_images_root, basename))\n",
    "    image = cv2.cvtColor(image, cv2.COLOR_BGR2RGB)\n",
    "    \n",
    "    plt.imshow(image)\n",
    "    plt.title(f\"{basename} | {lightness}\")\n",
    "    plt.show()"
   ]
  },
  {
   "cell_type": "markdown",
   "id": "3c023709-aae8-4cfa-a241-90e0a034e497",
   "metadata": {},
   "source": [
    "**Задача 4**:\n",
    "* Получить модель архитектуры ResNet18\n",
    "* Заменить входную \"большую\" свертку 7x7 на обычную 3х3"
   ]
  },
  {
   "cell_type": "code",
   "execution_count": null,
   "id": "602e6ef3-c2a2-4f61-a37f-0d62ecbf29be",
   "metadata": {},
   "outputs": [],
   "source": [
    "from torchvision import models"
   ]
  },
  {
   "cell_type": "code",
   "execution_count": null,
   "id": "a9845ba8-7c0d-4a15-a886-65cb90e8606d",
   "metadata": {},
   "outputs": [],
   "source": [
    "def get_resnet18_custom():\n",
    "    \n",
    "    # YOUR CODE HERE\n",
    "    \n",
    "    # ...\n",
    "    # resnet18_custom = ...\n",
    "    # ...\n",
    "    \n",
    "    # END OF YOUR CODE\n",
    "    \n",
    "    return resnet18_custom"
   ]
  },
  {
   "cell_type": "code",
   "execution_count": null,
   "id": "9a870fa4-1fce-477b-9a60-ed00517b007f",
   "metadata": {},
   "outputs": [],
   "source": [
    "resnet18_custom = get_resnet18_custom()\n",
    "resnet18_custom;"
   ]
  },
  {
   "cell_type": "code",
   "execution_count": null,
   "id": "f19e1121-dbce-4f5d-b947-32db6964049f",
   "metadata": {},
   "outputs": [],
   "source": [
    "x = torch.randn(1, 3, 48, 48)\n",
    "y = resnet18_custom(x)\n",
    "print(y.size())"
   ]
  }
 ],
 "metadata": {
  "kernelspec": {
   "display_name": "Python 3 (ipykernel)",
   "language": "python",
   "name": "python3"
  },
  "language_info": {
   "codemirror_mode": {
    "name": "ipython",
    "version": 3
   },
   "file_extension": ".py",
   "mimetype": "text/x-python",
   "name": "python",
   "nbconvert_exporter": "python",
   "pygments_lexer": "ipython3",
   "version": "3.9.7"
  }
 },
 "nbformat": 4,
 "nbformat_minor": 5
}
