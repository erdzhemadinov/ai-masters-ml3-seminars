{
 "cells": [
  {
   "cell_type": "markdown",
   "metadata": {
    "id": "-rfoCz1na-sE"
   },
   "source": [
    "# PyTorch Transformer\n",
    "\n",
    "Полезные материалы:\n",
    "- [Attention Is All You Need (Paper)](https://arxiv.org/abs/1706.03762)\n",
    "- [The Annotated Transformer](https://nlp.seas.harvard.edu/2018/04/03/attention.html)\n",
    "- [The Illustrated Transformer](http://jalammar.github.io/illustrated-transformer/)\n",
    "- [Sequence-to-Sequence Modeling with nn.Transformer and TorchText](https://pytorch.org/tutorials/beginner/transformer_tutorial.html)\n",
    "- [How To Code The Transformer in PyTorch](https://towardsdatascience.com/how-to-code-the-transformer-in-pytorch-24db27c8f9ec#1b3f)\n",
    "- [PyTorch's nn.Transformer (article)](https://andrewpeng.dev/transformer-pytorch/)\n",
    "\n"
   ]
  },
  {
   "cell_type": "markdown",
   "metadata": {},
   "source": [
    "Реккурентная нейронная сеть не может обрабатывать очень длинные последовательности"
   ]
  },
  {
   "cell_type": "markdown",
   "metadata": {},
   "source": [
    "<img src=\"https://miro.medium.com/max/1280/1*w2OJ4jfjxmlcqu6k4BdgrA.gif\" width=\"600\">\n",
    "\n"
   ]
  },
  {
   "cell_type": "markdown",
   "metadata": {
    "id": "p0zpWZpazSBF"
   },
   "source": [
    "## Архитектура модели"
   ]
  },
  {
   "cell_type": "markdown",
   "metadata": {
    "id": "ULXXwZjeymsQ"
   },
   "source": [
    "<img src=\"https://nlp.seas.harvard.edu/images/the-annotated-transformer_14_0.png?raw=true\" width=\"300\">"
   ]
  },
  {
   "cell_type": "markdown",
   "metadata": {
    "id": "neWwbiq-nivo"
   },
   "source": [
    "<!-- ## Размерности\n",
    "\n",
    "Чтобы было легче понять модель, для начала разберемся с размерностями тензоров. Размерности зафиксируем в соответствии с размерностями тензоров в PyTorch's реализации Трансформера. \n",
    "\n",
    "- src: (S, N, E) = **(source sequence len, batch size, feature number)**\n",
    "- tgt: (T, N, E) = **(target sequence len, batch size, feature number)**\n",
    "- tgt_mask: (T, T) = **(target sequence len, target sequence len)**\n",
    "- src_key_padding_mask: (N, S) = **(batch size, source sequence len)**\n",
    "- tgt_key_padding_mask: (N, T) = **(batch size, target sequence len)**\n",
    "- memory_key_padding_mask: (N, S) = **(batch size, source sequence len)**\n",
    "\n",
    "### Пример\n",
    "```\n",
    "SRC_LEN = 50\n",
    "TGT_LEN = 40\n",
    "BATCH_SIZE = 100\n",
    "NUM_FEATURES = 512\n",
    "``` -->\n"
   ]
  },
  {
   "cell_type": "code",
   "execution_count": 35,
   "metadata": {
    "executionInfo": {
     "elapsed": 364,
     "status": "ok",
     "timestamp": 1637855137584,
     "user": {
      "displayName": "Filipp Nikitin",
      "photoUrl": "https://lh3.googleusercontent.com/a-/AOh14Gib7R6zFSdJ1Mn4MWbQTRjNvdPBqipg3uQtaNBFNg=s64",
      "userId": "00003629133353694743"
     },
     "user_tz": -180
    },
    "id": "OBViVFV18C4t"
   },
   "outputs": [],
   "source": [
    "import math\n",
    "import torch\n",
    "import torch.nn as nn\n",
    "import numpy as np\n",
    "\n",
    "from matplotlib import pyplot as plt\n",
    "from torch.nn.utils import clip_grad_norm_\n",
    "from torch.utils.data import DataLoader, Dataset\n",
    "from torch.nn import functional as F"
   ]
  },
  {
   "cell_type": "markdown",
   "metadata": {
    "id": "O7dOySwO1zIh"
   },
   "source": [
    "## Embedding and Softmax\n",
    "\n",
    "<img src=\"images/input_embeddings.png\" width=\"1000\">\n",
    "\n",
    "Модель преобразует последовательность объектов (слов) в последовательность векторов, обучая эмбеддинги объектов (слов). Данные эмбеддинги имеют размерность $d_{model}$.\n",
    "\n",
    "Чтобы конвертировать выходы модели в объекты используется линейный слой с функцией активации `softmax`. \n",
    "\n",
    "В модели используются общие эмбеддинги для входного и выходного слоев. В эмбеддинг слое веса домножаются на $\\sqrt{d_{model}}$."
   ]
  },
  {
   "cell_type": "code",
   "execution_count": 36,
   "metadata": {
    "executionInfo": {
     "elapsed": 5,
     "status": "ok",
     "timestamp": 1637855137966,
     "user": {
      "displayName": "Filipp Nikitin",
      "photoUrl": "https://lh3.googleusercontent.com/a-/AOh14Gib7R6zFSdJ1Mn4MWbQTRjNvdPBqipg3uQtaNBFNg=s64",
      "userId": "00003629133353694743"
     },
     "user_tz": -180
    },
    "id": "3whC5jLY15kp"
   },
   "outputs": [],
   "source": [
    "class Embeddings(nn.Module):\n",
    "    def __init__(self, d_model, vocab):\n",
    "        super(Embeddings, self).__init__()\n",
    "        self.emb = nn.Embedding(vocab, d_model)\n",
    "        self.d_model = d_model\n",
    "\n",
    "    def forward(self, x):\n",
    "        return self.emb(x) * math.sqrt(self.d_model)"
   ]
  },
  {
   "cell_type": "markdown",
   "metadata": {
    "id": "FePT2ZI4ogo2"
   },
   "source": [
    "## Positional Encoding\n",
    "\n",
    "<img src=\"images/lstm.png\" width=\"1000\">\n",
    "\n",
    "В нейронной сети Трансформер информация о позиции элемента в последовательности передается явно в модель. Это делается добавлением к эмбеддингов слов векторов (positional encodings), кодирующих позицию элемента в исходной последовательносте. Данные вектора имеют туже размерность, что и размерность эмбеддингов ($d_{model}$).\n",
    "\n",
    "<img src=\"images/transformer.png\" width=\"1000\">\n",
    "\n",
    "- Какие варианты добавления информации о позиции объекта вы можете предложить?\n",
    "- Обсудить преимущетсва и недостатки.\n",
    "\n",
    "\n",
    "\n",
    "\n",
    "В трансформере данные вектора вычисляются по формуле:\n",
    "\n",
    "$$\n",
    "\\mathbb{PE}(pos, 2i+0) = sin\\left(\\frac{pos}{10000^{\\frac{2i}{d_{model}}}}\\right) \\\\\n",
    "\\mathbb{PE}(pos, 2i+1) = sin\\left(\\frac{pos}{10000^{\\frac{2i}{d_{model}}}}\\right)\n",
    "$$\n",
    "\n",
    "В данной формуле:\n",
    "- $pos$ - позиция элемента в последовательности\n",
    "- $i$ - номер размерности\n",
    "- $d_{model}$ - размерность эмбеддингов\n",
    "\n",
    "Каждая размерность в $\\mathbb{PE}$ образует синусоиду. Периоды синусоид образуют геометрическую прогрессию.\n",
    "\n",
    "После сложения эмбеддингов и $\\mathbb{PE}$-векторов в оригинальной работе применяется дропаут с $p=0.1$."
   ]
  },
  {
   "cell_type": "code",
   "execution_count": 37,
   "metadata": {
    "executionInfo": {
     "elapsed": 4,
     "status": "ok",
     "timestamp": 1637855138533,
     "user": {
      "displayName": "Filipp Nikitin",
      "photoUrl": "https://lh3.googleusercontent.com/a-/AOh14Gib7R6zFSdJ1Mn4MWbQTRjNvdPBqipg3uQtaNBFNg=s64",
      "userId": "00003629133353694743"
     },
     "user_tz": -180
    },
    "id": "sYqYlADc8JRW"
   },
   "outputs": [],
   "source": [
    "class PositionalEncoding(nn.Module):\n",
    "    \"Implement the PE function.\"\n",
    "    def __init__(self, d_model, dropout, max_len=5000):\n",
    "        super(PositionalEncoding, self).__init__()\n",
    "        self.dropout = nn.Dropout(p=dropout)\n",
    "        \n",
    "        # Compute the positional encodings once in log space.\n",
    "        pe = torch.zeros(max_len, d_model)\n",
    "        position = torch.arange(0, max_len).unsqueeze(1)\n",
    "        div_term = torch.exp(torch.arange(0, d_model, 2) * -(math.log(10000.0) / d_model))\n",
    "        pe[:, 0::2] = torch.sin(position * div_term)\n",
    "        pe[:, 1::2] = torch.cos(position * div_term)\n",
    "        pe = pe.unsqueeze(0)\n",
    "        self.register_buffer('pe', pe)\n",
    "        \n",
    "    def forward(self, x):\n",
    "        y = self.pe[:, :x.size(1)]\n",
    "        y = y.requires_grad_()\n",
    "        x = x + y\n",
    "        return self.dropout(x)"
   ]
  },
  {
   "cell_type": "code",
   "execution_count": 38,
   "metadata": {
    "colab": {
     "base_uri": "https://localhost:8080/",
     "height": 374
    },
    "executionInfo": {
     "elapsed": 436,
     "status": "ok",
     "timestamp": 1637855138966,
     "user": {
      "displayName": "Filipp Nikitin",
      "photoUrl": "https://lh3.googleusercontent.com/a-/AOh14Gib7R6zFSdJ1Mn4MWbQTRjNvdPBqipg3uQtaNBFNg=s64",
      "userId": "00003629133353694743"
     },
     "user_tz": -180
    },
    "id": "7BW5NQKTwkVA",
    "outputId": "22ef73d7-c842-40ea-e875-a6042f4c3f70"
   },
   "outputs": [
    {
     "data": {
      "image/png": "[encoded data removed]",
      "text/plain": [
       "<Figure size 576x432 with 1 Axes>"
      ]
     },
     "metadata": {
      "needs_background": "light"
     },
     "output_type": "display_data"
    }
   ],
   "source": [
    "plt.figure(figsize=(8, 6))\n",
    "pe = PositionalEncoding(20, 0)\n",
    "y = pe.forward(torch.zeros(1, 100, 20))\n",
    "plt.plot(np.arange(100), y[0, :, 4:8].data.numpy())\n",
    "plt.legend([\"dim %d\"%p for p in [4,5,6,7]])\n",
    "plt.grid()\n",
    "plt.show()"
   ]
  },
  {
   "cell_type": "markdown",
   "metadata": {},
   "source": [
    "## Self-Attention\n",
    "\n",
    "<img src=\"images/self_attention.png\" width=\"1000\">\n"
   ]
  },
  {
   "cell_type": "markdown",
   "metadata": {
    "id": "dZSfbRk34BE3"
   },
   "source": [
    "## Self-Attention\n",
    "\n",
    "<img src=\"https://nlp.seas.harvard.edu/images/the-annotated-transformer_33_0.png?raw=true\" width=\"150\">\n"
   ]
  },
  {
   "cell_type": "markdown",
   "metadata": {
    "id": "ROEuEd_x5Eri"
   },
   "source": [
    "Self-attention является важнейшей частью архитектуры трансформер. Это функциональное преобразование представляетс собой отображение векторов Q(ery), K(ey), и V(alues) во взвешенную сумму векторов V, c коэффициентами, зависящими от Q и K. \n",
    "\n",
    "Self-attention вычисляется по формуле. \n",
    "\n",
    "$$\n",
    "Attention(Q, K, V) = softmax \\left(\\frac{Q K^\\top}{\\sqrt{d_k}}\\right)V\n",
    "$$"
   ]
  },
  {
   "cell_type": "code",
   "execution_count": 39,
   "metadata": {
    "executionInfo": {
     "elapsed": 223,
     "status": "ok",
     "timestamp": 1637855141340,
     "user": {
      "displayName": "Filipp Nikitin",
      "photoUrl": "https://lh3.googleusercontent.com/a-/AOh14Gib7R6zFSdJ1Mn4MWbQTRjNvdPBqipg3uQtaNBFNg=s64",
      "userId": "00003629133353694743"
     },
     "user_tz": -180
    },
    "id": "IZ-DJkza5Vhn"
   },
   "outputs": [],
   "source": [
    "def attention(query, key, value, mask=None, dropout=None):\n",
    "    \"Compute 'Scaled Dot Product Attention'\"\n",
    "    d_k = query.size(-1)\n",
    "    scores = torch.matmul(query, key.transpose(-2, -1))/math.sqrt(d_k)\n",
    "    if mask is not None:\n",
    "        scores = scores.masked_fill(mask == 0, -1e9)\n",
    "    p_attn = F.softmax(scores, dim = -1)\n",
    "    if dropout is not None:\n",
    "        p_attn = dropout(p_attn)\n",
    "    return torch.matmul(p_attn, value), p_attn"
   ]
  },
  {
   "cell_type": "markdown",
   "metadata": {},
   "source": [
    "## Multi-Head Attention\n",
    "\n",
    "<img src=\"images/multi_head_attention.png\" width=\"1000\">\n",
    "\n",
    "<img src=\"images/multi_head_attention_2.png\" width=\"1000\">\n"
   ]
  },
  {
   "cell_type": "markdown",
   "metadata": {
    "id": "tNMkecKh51vV"
   },
   "source": [
    "## Multi-Head Attention\n",
    "\n",
    "Усовершенствованным Self-attention является Multi-head attention. В данном механизме информация из различных подпространств признакового пространства аккумулируется разными механизмами внимания.  \n",
    "\n",
    "$$\n",
    "MultiHead(Q, K, V) = Concat(head_1, \\dots, head_h)W^O\\\\\n",
    "head_i = Attention(QW^Q_i, KW^K_i, VW^V_i)\n",
    "$$ \n",
    "\n",
    "В данном выражении параметры слоя:\n",
    "- $W^Q_i \\in \\mathbb{R}^{d_{model} \\times d_q}$\n",
    "- $W^K_i \\in \\mathbb{R}^{d_{model} \\times d_k}$\n",
    "- $W^V_i \\in \\mathbb{R}^{d_{model} \\times d_v}$\n",
    "- $W^O \\in \\mathbb{R}^{hd_v \\times d_{model}}$\n",
    "\n",
    "В работе использовались следующие размерности. \n",
    "\n",
    "- $h = 8$ - количество  \"голов\" механизма внимания\n",
    "- $d_k = d_v = \\frac{d_{model}}{h} = 64$ "
   ]
  },
  {
   "cell_type": "markdown",
   "metadata": {
    "id": "tElR8SPy5k8n"
   },
   "source": [
    "<img src=\"https://nlp.seas.harvard.edu/images/the-annotated-transformer_38_0.png?raw=true\" width=\"300\">"
   ]
  },
  {
   "cell_type": "code",
   "execution_count": 40,
   "metadata": {
    "executionInfo": {
     "elapsed": 201,
     "status": "ok",
     "timestamp": 1637855142999,
     "user": {
      "displayName": "Filipp Nikitin",
      "photoUrl": "https://lh3.googleusercontent.com/a-/AOh14Gib7R6zFSdJ1Mn4MWbQTRjNvdPBqipg3uQtaNBFNg=s64",
      "userId": "00003629133353694743"
     },
     "user_tz": -180
    },
    "id": "uBGvaE_j5hPD"
   },
   "outputs": [],
   "source": [
    "class MultiHeadedAttention(nn.Module):\n",
    "    def __init__(self, h, d_model, dropout=0.1):\n",
    "        \"Take in model size and number of heads.\"\n",
    "        super(MultiHeadedAttention, self).__init__()\n",
    "        assert d_model % h == 0\n",
    "        self.d_k = d_model // h\n",
    "        self.h = h\n",
    "        self.linear_q = nn.Linear(d_model, d_model)\n",
    "        self.linear_k = nn.Linear(d_model, d_model)\n",
    "        self.linear_v = nn.Linear(d_model, d_model)\n",
    "        self.linear_o = nn.Linear(d_model, d_model)\n",
    "        self.dropout = nn.Dropout(p=dropout)\n",
    "        \n",
    "    def forward(self, query, key, value, mask=None):\n",
    "        \"Implements Figure 2\"\n",
    "        if mask is not None:\n",
    "            mask = mask.unsqueeze(1)\n",
    "        nbatches = query.size(0)\n",
    "        \n",
    "        # 1) Do all the linear projections in batch from d_model => h x d_k\n",
    "\n",
    "        query = self.linear_q(query)\n",
    "        query = query.reshape(nbatches, -1, self.h, self.d_k).transpose(1, 2)\n",
    "\n",
    "        key = self.linear_k(key)\n",
    "        key = key.reshape(nbatches, -1, self.h, self.d_k).transpose(1, 2)\n",
    "\n",
    "        value = self.linear_v(value)\n",
    "        value = value.reshape(nbatches, -1, self.h, self.d_k).transpose(1, 2)\n",
    "        \n",
    "        # 2) Apply attention on all the projected vectors in batch. \n",
    "        x, _ = attention(query, key, value, mask=mask, \n",
    "                                 dropout=self.dropout)\n",
    "        \n",
    "        # 3) \"Concat\" using a view and apply a final linear. \n",
    "        x = x.transpose(1, 2).reshape(nbatches, -1, self.h * self.d_k)\n",
    "        return self.linear_o(x)"
   ]
  },
  {
   "cell_type": "markdown",
   "metadata": {
    "id": "Dmi9tdEF6Akz"
   },
   "source": [
    "## Position-wise Feed-Forward Networks\n",
    "\n",
    "В дополнение к механизму внимания, каждый блок в Трансформере также содержит полносвязанные слои, которая примяняется отдельно к каждому элементу последовательности. \n",
    "\n",
    "$$\n",
    "FeedForwardNetwork(x) = linear(ReLU(linear(x)))\n",
    "$$\n",
    "\n",
    "В статье $d_{model} = 512$ и $d_{ff} = 2048$."
   ]
  },
  {
   "cell_type": "code",
   "execution_count": 67,
   "metadata": {
    "executionInfo": {
     "elapsed": 362,
     "status": "ok",
     "timestamp": 1637855148746,
     "user": {
      "displayName": "Filipp Nikitin",
      "photoUrl": "https://lh3.googleusercontent.com/a-/AOh14Gib7R6zFSdJ1Mn4MWbQTRjNvdPBqipg3uQtaNBFNg=s64",
      "userId": "00003629133353694743"
     },
     "user_tz": -180
    },
    "id": "X22j_mki5_Gs"
   },
   "outputs": [],
   "source": [
    "class PositionwiseFeedForward(nn.Module):\n",
    "    \"Implements FeedForwardNetwork equation.\"\n",
    "    def __init__(self, d_model, d_ff, dropout=0.1):\n",
    "        super(PositionwiseFeedForward, self).__init__()\n",
    "        self.w_1 = nn.Linear(d_model, d_ff)\n",
    "        self.w_2 = nn.Linear(d_ff, d_model)\n",
    "        self.dropout = nn.Dropout(dropout)\n",
    "\n",
    "    def forward(self, x):\n",
    "        return self.w_2(self.dropout(F.relu(self.w_1(x))))"
   ]
  },
  {
   "cell_type": "markdown",
   "metadata": {
    "id": "i_q6O2-z0lgb"
   },
   "source": [
    "## Layer Norm\n",
    "\n",
    "<img src=\"https://production-media.paperswithcode.com/methods/Screen_Shot_2020-05-19_at_4.24.42_PM.png?raw=true\" width=\"300\">"
   ]
  },
  {
   "cell_type": "markdown",
   "metadata": {},
   "source": [
    "Нормализация ограничивает норму, делает процесс сходимости более стабильным и быстрым\n",
    "\n",
    "<img src=\"images/layer_normalization.png\" width=\"1000\">"
   ]
  },
  {
   "cell_type": "code",
   "execution_count": 70,
   "metadata": {
    "executionInfo": {
     "elapsed": 263,
     "status": "ok",
     "timestamp": 1637855163514,
     "user": {
      "displayName": "Filipp Nikitin",
      "photoUrl": "https://lh3.googleusercontent.com/a-/AOh14Gib7R6zFSdJ1Mn4MWbQTRjNvdPBqipg3uQtaNBFNg=s64",
      "userId": "00003629133353694743"
     },
     "user_tz": -180
    },
    "id": "J_yNQqrN0gxO"
   },
   "outputs": [],
   "source": [
    "class LayerNorm(nn.Module):\n",
    "    \"Construct a layernorm module (See citation for details).\"\n",
    "    def __init__(self, features, eps=1e-6):\n",
    "        super(LayerNorm, self).__init__()\n",
    "        self.a_2 = nn.Parameter(torch.ones(features))\n",
    "        self.b_2 = nn.Parameter(torch.zeros(features))\n",
    "        self.eps = eps\n",
    "\n",
    "    def forward(self, x):\n",
    "        #print(x.shape)\n",
    "        mean = x.mean(-1, keepdim=True)\n",
    "        std = x.std(-1, keepdim=True)\n",
    "        return self.a_2 * (x - mean) / (std + self.eps) + self.b_2"
   ]
  },
  {
   "cell_type": "markdown",
   "metadata": {
    "id": "qb-MmDWtHAT1"
   },
   "source": [
    "## Encoder\n",
    "\n",
    "<img src=\"images/residual_connection.png\" width=\"1000\">\n",
    "\n",
    "Реализуем Encoder модели  Transformer. "
   ]
  },
  {
   "cell_type": "code",
   "execution_count": 71,
   "metadata": {
    "executionInfo": {
     "elapsed": 218,
     "status": "ok",
     "timestamp": 1637855164755,
     "user": {
      "displayName": "Filipp Nikitin",
      "photoUrl": "https://lh3.googleusercontent.com/a-/AOh14Gib7R6zFSdJ1Mn4MWbQTRjNvdPBqipg3uQtaNBFNg=s64",
      "userId": "00003629133353694743"
     },
     "user_tz": -180
    },
    "id": "JJI9P6at0pNu"
   },
   "outputs": [],
   "source": [
    "class SublayerConnection(nn.Module):\n",
    "    \"\"\"\n",
    "    A residual connection followed by a layer norm.\n",
    "    Note for code simplicity the norm is first as opposed to last.\n",
    "    \"\"\"\n",
    "    def __init__(self, size, dropout):\n",
    "        super(SublayerConnection, self).__init__()\n",
    "        self.norm = LayerNorm(size)\n",
    "        self.dropout = nn.Dropout(dropout)\n",
    "\n",
    "    def forward(self, x, sublayer):\n",
    "        \"Apply residual connection to any sublayer with the same size.\"\n",
    "        return x + self.dropout(sublayer(self.norm(x)))"
   ]
  },
  {
   "cell_type": "markdown",
   "metadata": {},
   "source": [
    "<img src=\"images/feed_forward.png\" width=\"1000\">"
   ]
  },
  {
   "cell_type": "code",
   "execution_count": 44,
   "metadata": {
    "executionInfo": {
     "elapsed": 3,
     "status": "ok",
     "timestamp": 1637855164987,
     "user": {
      "displayName": "Filipp Nikitin",
      "photoUrl": "https://lh3.googleusercontent.com/a-/AOh14Gib7R6zFSdJ1Mn4MWbQTRjNvdPBqipg3uQtaNBFNg=s64",
      "userId": "00003629133353694743"
     },
     "user_tz": -180
    },
    "id": "5h0DUI-37BJv"
   },
   "outputs": [],
   "source": [
    "class EncoderLayer(nn.Module):\n",
    "    \"Encoder is made up of self-attn and feed forward (defined below)\"\n",
    "    def __init__(self, h, d_model, d_ff, dropout):\n",
    "        super(EncoderLayer, self).__init__()\n",
    "        self.self_attn    = MultiHeadedAttention(h, d_model)\n",
    "        self.feed_forward = PositionwiseFeedForward(d_model, d_ff, dropout)\n",
    "        sublayer = [SublayerConnection(d_model, dropout) for i in range(2)]\n",
    "        self.sublayer = nn.ModuleList(sublayer)\n",
    "\n",
    "    def forward(self, x, mask):\n",
    "        \"Follow Figure 1 (left) for connections.\"\n",
    "        x = self.sublayer[0](x, lambda x: self.self_attn(x, x, x, mask))\n",
    "        return self.sublayer[1](x, self.feed_forward)"
   ]
  },
  {
   "cell_type": "code",
   "execution_count": 45,
   "metadata": {
    "executionInfo": {
     "elapsed": 6,
     "status": "ok",
     "timestamp": 1637855165961,
     "user": {
      "displayName": "Filipp Nikitin",
      "photoUrl": "https://lh3.googleusercontent.com/a-/AOh14Gib7R6zFSdJ1Mn4MWbQTRjNvdPBqipg3uQtaNBFNg=s64",
      "userId": "00003629133353694743"
     },
     "user_tz": -180
    },
    "id": "K1bYPLYw60Tq"
   },
   "outputs": [],
   "source": [
    "class Encoder(nn.Module):\n",
    "    \"Core encoder is a stack of N layers\"\n",
    "    def __init__(self, h, d_model, d_ff, dropout, num_layers):\n",
    "        super(Encoder, self).__init__()\n",
    "        layers = [EncoderLayer(h, d_model, d_ff, dropout) \n",
    "                    for i in range(num_layers)]\n",
    "        self.layers = nn.ModuleList(layers)\n",
    "        self.norm = LayerNorm(d_model)\n",
    "        \n",
    "    def forward(self, x, mask):\n",
    "        \"Pass the input (and mask) through each layer in turn.\"\n",
    "        for layer in self.layers:\n",
    "            x = layer(x, mask)\n",
    "        return self.norm(x)"
   ]
  },
  {
   "cell_type": "markdown",
   "metadata": {
    "id": "ZDw_ERr_05wW"
   },
   "source": [
    "## Decoder\n",
    "\n",
    "<img src=\"images/decoder_1.png\" width=\"1000\">\n",
    "\n",
    "Реализуем Decoder модели Transformer. "
   ]
  },
  {
   "cell_type": "code",
   "execution_count": 46,
   "metadata": {
    "executionInfo": {
     "elapsed": 213,
     "status": "ok",
     "timestamp": 1637855167654,
     "user": {
      "displayName": "Filipp Nikitin",
      "photoUrl": "https://lh3.googleusercontent.com/a-/AOh14Gib7R6zFSdJ1Mn4MWbQTRjNvdPBqipg3uQtaNBFNg=s64",
      "userId": "00003629133353694743"
     },
     "user_tz": -180
    },
    "id": "ZARfm2H0048b"
   },
   "outputs": [],
   "source": [
    "class DecoderLayer(nn.Module):\n",
    "    \"Decoder is made of self-attn, src-attn, and feed forward (defined below)\"\n",
    "    def __init__(self, h, d_model, d_ff, dropout):\n",
    "        super(DecoderLayer, self).__init__()\n",
    "        self.self_attn    = MultiHeadedAttention(h, d_model)\n",
    "        self.src_attn     = MultiHeadedAttention(h, d_model)\n",
    "        self.feed_forward = PositionwiseFeedForward(d_model, d_ff, dropout)\n",
    "        sublayer = [SublayerConnection(d_model, dropout) for i in range(3)]\n",
    "        self.sublayer     = nn.ModuleList(sublayer)\n",
    "        \n",
    "    def forward(self, x, memory, src_mask, tgt_mask):\n",
    "        \"Follow Figure 1 (right) for connections.\"\n",
    "        x = self.sublayer[0](x, lambda x: self.self_attn(x, x, x, tgt_mask))\n",
    "        x = self.sublayer[1](x, lambda x: self.src_attn(x, memory, memory, src_mask))\n",
    "        return self.sublayer[2](x, self.feed_forward)"
   ]
  },
  {
   "cell_type": "code",
   "execution_count": 47,
   "metadata": {
    "executionInfo": {
     "elapsed": 7,
     "status": "ok",
     "timestamp": 1637855168476,
     "user": {
      "displayName": "Filipp Nikitin",
      "photoUrl": "https://lh3.googleusercontent.com/a-/AOh14Gib7R6zFSdJ1Mn4MWbQTRjNvdPBqipg3uQtaNBFNg=s64",
      "userId": "00003629133353694743"
     },
     "user_tz": -180
    },
    "id": "NvwpwgZ97dQi"
   },
   "outputs": [],
   "source": [
    "class Decoder(nn.Module):\n",
    "    \"Generic N layer decoder with masking.\"\n",
    "    def __init__(self, h, d_model, d_ff, dropout, num_layers):\n",
    "        super(Decoder, self).__init__()\n",
    "        layers = [DecoderLayer(h, d_model, d_ff, dropout) \n",
    "                  for i in range(num_layers)]\n",
    "        self.layers = nn.ModuleList(layers)\n",
    "        self.norm = LayerNorm(d_model)\n",
    "        \n",
    "    def forward(self, x, memory, src_mask, tgt_mask):\n",
    "        for layer in self.layers:\n",
    "            x = layer(x, memory, src_mask, tgt_mask)\n",
    "        return self.norm(x)"
   ]
  },
  {
   "cell_type": "markdown",
   "metadata": {
    "id": "yAMMMZWGLS6Y"
   },
   "source": [
    "## Transformer\n",
    "\n",
    "Соберем все написанные модули в Трансформер согласно схеме. \n",
    "\n",
    "<img src=\"https://nlp.seas.harvard.edu/images/the-annotated-transformer_14_0.png?raw=true\" width=\"300\">"
   ]
  },
  {
   "cell_type": "code",
   "execution_count": 48,
   "metadata": {
    "executionInfo": {
     "elapsed": 197,
     "status": "ok",
     "timestamp": 1637855196832,
     "user": {
      "displayName": "Filipp Nikitin",
      "photoUrl": "https://lh3.googleusercontent.com/a-/AOh14Gib7R6zFSdJ1Mn4MWbQTRjNvdPBqipg3uQtaNBFNg=s64",
      "userId": "00003629133353694743"
     },
     "user_tz": -180
    },
    "id": "Q9qekUpubYgs"
   },
   "outputs": [],
   "source": [
    "class Transformer(nn.Module):\n",
    "    def __init__(self, src_vocab, tgt_vocab, h=2, d_model=512,\n",
    "                 d_ff=2048, dropout=0.1, num_layers=2):\n",
    "        super(Transformer, self).__init__()\n",
    "        self.encoder = Encoder(h, d_model, d_ff, dropout, num_layers)\n",
    "        self.decoder = Decoder(h, d_model, d_ff, dropout, num_layers) \n",
    "        enc_pos = PositionalEncoding(d_model, dropout)\n",
    "        dec_pos = PositionalEncoding(d_model, dropout)\n",
    "        enc_emb = Embeddings(d_model, src_vocab)\n",
    "        dec_emb = Embeddings(d_model, tgt_vocab)\n",
    "        self.src_embed = nn.Sequential(enc_emb, enc_pos)\n",
    "        self.tgt_embed = nn.Sequential(dec_emb, dec_pos)\n",
    "        self.proj = nn.Linear(d_model, tgt_vocab)\n",
    "        self.logsoftmax = nn.LogSoftmax(dim=-1)\n",
    "\n",
    "        for p in self.parameters():\n",
    "            if p.dim() > 1:\n",
    "                nn.init.xavier_uniform_(p)\n",
    "\n",
    "    def forward(self, src, tgt, src_mask, tgt_mask):\n",
    "        \"Take in and process masked src and target sequences.\"\n",
    "        x = self.decode(self.encode(src, src_mask), src_mask,\n",
    "                            tgt, tgt_mask)\n",
    "        x = self.logsoftmax(self.proj(x))\n",
    "        return x\n",
    "    \n",
    "    def encode(self, src, src_mask):\n",
    "        return self.encoder(self.src_embed(src), src_mask)\n",
    "    \n",
    "    def decode(self, memory, src_mask, tgt, tgt_mask):\n",
    "        return self.decoder(self.tgt_embed(tgt), memory, src_mask, tgt_mask)"
   ]
  },
  {
   "cell_type": "markdown",
   "metadata": {},
   "source": [
    "<img src=\"images/result_model.png\" width=\"1000\">"
   ]
  },
  {
   "cell_type": "markdown",
   "metadata": {
    "id": "uzEoZIaWlnu2"
   },
   "source": [
    "## Синтетические данные\n",
    "\n",
    "Сгенерируем синтетические модельные данные для обучения модели. "
   ]
  },
  {
   "cell_type": "markdown",
   "metadata": {
    "id": "PW59H2RVL2_-"
   },
   "source": [
    "Нам потребуется маскировать переведенные слова, чтобы модель не подсматривала в область, которую она предсказывает. Для этого домножим маску механизма внимания на нижнюю треугольную единичную матрицу."
   ]
  },
  {
   "cell_type": "code",
   "execution_count": 72,
   "metadata": {
    "executionInfo": {
     "elapsed": 331,
     "status": "ok",
     "timestamp": 1637855198403,
     "user": {
      "displayName": "Filipp Nikitin",
      "photoUrl": "https://lh3.googleusercontent.com/a-/AOh14Gib7R6zFSdJ1Mn4MWbQTRjNvdPBqipg3uQtaNBFNg=s64",
      "userId": "00003629133353694743"
     },
     "user_tz": -180
    },
    "id": "Zl22L8aTpq1N"
   },
   "outputs": [],
   "source": [
    "def subsequent_mask(size):\n",
    "    \"Mask out subsequent positions.\"\n",
    "    attn_shape = (size, size)\n",
    "    subsequent_mask = torch.triu(torch.ones(attn_shape), diagonal=1).int()\n",
    "    return subsequent_mask == 0"
   ]
  },
  {
   "cell_type": "code",
   "execution_count": 73,
   "metadata": {
    "colab": {
     "base_uri": "https://localhost:8080/",
     "height": 399
    },
    "executionInfo": {
     "elapsed": 12,
     "status": "ok",
     "timestamp": 1637855198781,
     "user": {
      "displayName": "Filipp Nikitin",
      "photoUrl": "https://lh3.googleusercontent.com/a-/AOh14Gib7R6zFSdJ1Mn4MWbQTRjNvdPBqipg3uQtaNBFNg=s64",
      "userId": "00003629133353694743"
     },
     "user_tz": -180
    },
    "id": "e54hl4KfqdKm",
    "outputId": "c9bc0de6-72a3-4c03-ffc4-3766b008a1b3"
   },
   "outputs": [
    {
     "data": {
      "image/png": "[encoded data removed]",
      "text/plain": [
       "<Figure size 432x576 with 1 Axes>"
      ]
     },
     "metadata": {
      "needs_background": "light"
     },
     "output_type": "display_data"
    }
   ],
   "source": [
    "plt.figure(figsize=(6, 8))\n",
    "plt.title(\"Example of the subsequent mask\")\n",
    "plt.imshow(subsequent_mask(15))\n",
    "plt.show()"
   ]
  },
  {
   "cell_type": "code",
   "execution_count": 51,
   "metadata": {
    "executionInfo": {
     "elapsed": 350,
     "status": "ok",
     "timestamp": 1637855200084,
     "user": {
      "displayName": "Filipp Nikitin",
      "photoUrl": "https://lh3.googleusercontent.com/a-/AOh14Gib7R6zFSdJ1Mn4MWbQTRjNvdPBqipg3uQtaNBFNg=s64",
      "userId": "00003629133353694743"
     },
     "user_tz": -180
    },
    "id": "6lV_cPv3mEkc"
   },
   "outputs": [],
   "source": [
    "class SynthDataset(Dataset):\n",
    "    def __init__(self, size, vocab_size=11, max_length=10, pad=0):\n",
    "        data = torch.from_numpy(np.random.randint(1, vocab_size, size=(size, max_length)))\n",
    "        data[:, 0] = 1\n",
    "        self.data = data\n",
    "        self.pad = pad\n",
    "      \n",
    "    def __getitem__(self, index):\n",
    "        pad      = self.pad\n",
    "        data     = self.data[index]\n",
    "        src      = data\n",
    "        tgt      = data[:-1]\n",
    "        tgt_y    = data[1:]\n",
    "        tgt_mask = self.make_std_mask(tgt, pad)\n",
    "        n_tokens = (tgt_y != pad).sum()\n",
    "        src_mask = (src != pad).unsqueeze(0)\n",
    "\n",
    "        return src, src_mask, tgt, tgt_mask, tgt_y, n_tokens\n",
    "  \n",
    "\n",
    "    def __len__(self):\n",
    "        return len(self.data)\n",
    "\n",
    "    @staticmethod\n",
    "    def make_std_mask(tgt, pad):\n",
    "        \"Create a mask to hide padding and future words.\"\n",
    "        tgt_mask = (tgt != pad)\n",
    "        tgt_mask = tgt_mask & subsequent_mask(tgt.size(-1)).type_as(tgt_mask.data)\n",
    "        return tgt_mask"
   ]
  },
  {
   "cell_type": "code",
   "execution_count": 52,
   "metadata": {
    "colab": {
     "base_uri": "https://localhost:8080/"
    },
    "executionInfo": {
     "elapsed": 5,
     "status": "ok",
     "timestamp": 1637855200298,
     "user": {
      "displayName": "Filipp Nikitin",
      "photoUrl": "https://lh3.googleusercontent.com/a-/AOh14Gib7R6zFSdJ1Mn4MWbQTRjNvdPBqipg3uQtaNBFNg=s64",
      "userId": "00003629133353694743"
     },
     "user_tz": -180
    },
    "id": "YeIotzuIrfg_",
    "outputId": "da857e14-dd4b-47da-c2c3-4c21d2fbca4b"
   },
   "outputs": [
    {
     "data": {
      "text/plain": [
       "(tensor([ 1,  6,  6, 10,  2,  8,  5,  3, 10,  3]),\n",
       " tensor([[True, True, True, True, True, True, True, True, True, True]]),\n",
       " tensor([ 1,  6,  6, 10,  2,  8,  5,  3, 10]),\n",
       " tensor([[ True, False, False, False, False, False, False, False, False],\n",
       "         [ True,  True, False, False, False, False, False, False, False],\n",
       "         [ True,  True,  True, False, False, False, False, False, False],\n",
       "         [ True,  True,  True,  True, False, False, False, False, False],\n",
       "         [ True,  True,  True,  True,  True, False, False, False, False],\n",
       "         [ True,  True,  True,  True,  True,  True, False, False, False],\n",
       "         [ True,  True,  True,  True,  True,  True,  True, False, False],\n",
       "         [ True,  True,  True,  True,  True,  True,  True,  True, False],\n",
       "         [ True,  True,  True,  True,  True,  True,  True,  True,  True]]),\n",
       " tensor([ 6,  6, 10,  2,  8,  5,  3, 10,  3]),\n",
       " tensor(9))"
      ]
     },
     "execution_count": 52,
     "metadata": {},
     "output_type": "execute_result"
    }
   ],
   "source": [
    "test_dataset = SynthDataset(1000)\n",
    "\n",
    "data = next(iter(test_dataset))\n",
    "data"
   ]
  },
  {
   "cell_type": "code",
   "execution_count": 53,
   "metadata": {
    "executionInfo": {
     "elapsed": 3,
     "status": "ok",
     "timestamp": 1637855200299,
     "user": {
      "displayName": "Filipp Nikitin",
      "photoUrl": "https://lh3.googleusercontent.com/a-/AOh14Gib7R6zFSdJ1Mn4MWbQTRjNvdPBqipg3uQtaNBFNg=s64",
      "userId": "00003629133353694743"
     },
     "user_tz": -180
    },
    "id": "oixPyBJzmUKP"
   },
   "outputs": [],
   "source": [
    "test_loader       = DataLoader(test_dataset, batch_size=32, shuffle=False)\n",
    "validation_loader = DataLoader(test_dataset, shuffle=False, batch_size=32)\n",
    "train_loader      = DataLoader(test_dataset, batch_size=32)"
   ]
  },
  {
   "cell_type": "code",
   "execution_count": 54,
   "metadata": {
    "executionInfo": {
     "elapsed": 248,
     "status": "ok",
     "timestamp": 1637855201514,
     "user": {
      "displayName": "Filipp Nikitin",
      "photoUrl": "https://lh3.googleusercontent.com/a-/AOh14Gib7R6zFSdJ1Mn4MWbQTRjNvdPBqipg3uQtaNBFNg=s64",
      "userId": "00003629133353694743"
     },
     "user_tz": -180
    },
    "id": "dVlWk8WttCSb"
   },
   "outputs": [],
   "source": [
    "batch = next(iter(test_loader))"
   ]
  },
  {
   "cell_type": "code",
   "execution_count": 55,
   "metadata": {
    "colab": {
     "base_uri": "https://localhost:8080/"
    },
    "executionInfo": {
     "elapsed": 315,
     "status": "ok",
     "timestamp": 1637855202733,
     "user": {
      "displayName": "Filipp Nikitin",
      "photoUrl": "https://lh3.googleusercontent.com/a-/AOh14Gib7R6zFSdJ1Mn4MWbQTRjNvdPBqipg3uQtaNBFNg=s64",
      "userId": "00003629133353694743"
     },
     "user_tz": -180
    },
    "id": "4XcZCaz1xKyj",
    "outputId": "dcb99697-7dfd-4593-ee93-9c290264c8b6"
   },
   "outputs": [
    {
     "name": "stdout",
     "output_type": "stream",
     "text": [
      "torch.Size([32, 10])\n",
      "torch.Size([32, 1, 10])\n",
      "torch.Size([32, 9])\n",
      "torch.Size([32, 9, 9])\n",
      "torch.Size([32, 9])\n",
      "torch.Size([32])\n"
     ]
    }
   ],
   "source": [
    "for i in batch:\n",
    "    print(i.shape)"
   ]
  },
  {
   "cell_type": "markdown",
   "metadata": {
    "id": "tJrmJ61XNuLS"
   },
   "source": [
    "Проверим, что наша модель запускается на сгенерированных данных."
   ]
  },
  {
   "cell_type": "code",
   "execution_count": 56,
   "metadata": {},
   "outputs": [],
   "source": [
    "d_model = 512\n",
    "d_ff    = 2048\n",
    "num_layers = 2\n",
    "h = 2\n",
    "\n",
    "src_vocab = tgt_vocab = 11\n"
   ]
  },
  {
   "cell_type": "code",
   "execution_count": 57,
   "metadata": {
    "colab": {
     "base_uri": "https://localhost:8080/"
    },
    "executionInfo": {
     "elapsed": 807,
     "status": "ok",
     "timestamp": 1637855205548,
     "user": {
      "displayName": "Filipp Nikitin",
      "photoUrl": "https://lh3.googleusercontent.com/a-/AOh14Gib7R6zFSdJ1Mn4MWbQTRjNvdPBqipg3uQtaNBFNg=s64",
      "userId": "00003629133353694743"
     },
     "user_tz": -180
    },
    "id": "g5_XjVkw8Bds",
    "outputId": "8b2bd0fa-3db2-4949-ebfe-eeb187095b04"
   },
   "outputs": [],
   "source": [
    "model = Transformer(src_vocab, tgt_vocab, h=h, d_model=d_model,\n",
    "         d_ff=d_ff, dropout=0.1, num_layers=num_layers)\n",
    "\n",
    "src, src_mask, tgt, tgt_mask, tgt_y, n_tokens = batch       \n",
    "model_answers = model(src, tgt, src_mask, tgt_mask)"
   ]
  },
  {
   "cell_type": "code",
   "execution_count": 58,
   "metadata": {},
   "outputs": [
    {
     "data": {
      "text/plain": [
       "torch.Size([32, 9, 11])"
      ]
     },
     "execution_count": 58,
     "metadata": {},
     "output_type": "execute_result"
    }
   ],
   "source": [
    "model_answers.size()"
   ]
  },
  {
   "cell_type": "code",
   "execution_count": 59,
   "metadata": {
    "colab": {
     "base_uri": "https://localhost:8080/"
    },
    "executionInfo": {
     "elapsed": 4,
     "status": "ok",
     "timestamp": 1637855205803,
     "user": {
      "displayName": "Filipp Nikitin",
      "photoUrl": "https://lh3.googleusercontent.com/a-/AOh14Gib7R6zFSdJ1Mn4MWbQTRjNvdPBqipg3uQtaNBFNg=s64",
      "userId": "00003629133353694743"
     },
     "user_tz": -180
    },
    "id": "BwI5oZnTpRYy",
    "outputId": "b876ce01-9b7e-42e6-b56b-08538076b7a3"
   },
   "outputs": [
    {
     "data": {
      "text/plain": [
       "Transformer(\n",
       "  (encoder): Encoder(\n",
       "    (layers): ModuleList(\n",
       "      (0): EncoderLayer(\n",
       "        (self_attn): MultiHeadedAttention(\n",
       "          (linear_q): Linear(in_features=512, out_features=512, bias=True)\n",
       "          (linear_k): Linear(in_features=512, out_features=512, bias=True)\n",
       "          (linear_v): Linear(in_features=512, out_features=512, bias=True)\n",
       "          (linear_o): Linear(in_features=512, out_features=512, bias=True)\n",
       "          (dropout): Dropout(p=0.1, inplace=False)\n",
       "        )\n",
       "        (feed_forward): PositionwiseFeedForward(\n",
       "          (w_1): Linear(in_features=512, out_features=2048, bias=True)\n",
       "          (w_2): Linear(in_features=2048, out_features=512, bias=True)\n",
       "          (dropout): Dropout(p=0.1, inplace=False)\n",
       "        )\n",
       "        (sublayer): ModuleList(\n",
       "          (0): SublayerConnection(\n",
       "            (norm): LayerNorm()\n",
       "            (dropout): Dropout(p=0.1, inplace=False)\n",
       "          )\n",
       "          (1): SublayerConnection(\n",
       "            (norm): LayerNorm()\n",
       "            (dropout): Dropout(p=0.1, inplace=False)\n",
       "          )\n",
       "        )\n",
       "      )\n",
       "      (1): EncoderLayer(\n",
       "        (self_attn): MultiHeadedAttention(\n",
       "          (linear_q): Linear(in_features=512, out_features=512, bias=True)\n",
       "          (linear_k): Linear(in_features=512, out_features=512, bias=True)\n",
       "          (linear_v): Linear(in_features=512, out_features=512, bias=True)\n",
       "          (linear_o): Linear(in_features=512, out_features=512, bias=True)\n",
       "          (dropout): Dropout(p=0.1, inplace=False)\n",
       "        )\n",
       "        (feed_forward): PositionwiseFeedForward(\n",
       "          (w_1): Linear(in_features=512, out_features=2048, bias=True)\n",
       "          (w_2): Linear(in_features=2048, out_features=512, bias=True)\n",
       "          (dropout): Dropout(p=0.1, inplace=False)\n",
       "        )\n",
       "        (sublayer): ModuleList(\n",
       "          (0): SublayerConnection(\n",
       "            (norm): LayerNorm()\n",
       "            (dropout): Dropout(p=0.1, inplace=False)\n",
       "          )\n",
       "          (1): SublayerConnection(\n",
       "            (norm): LayerNorm()\n",
       "            (dropout): Dropout(p=0.1, inplace=False)\n",
       "          )\n",
       "        )\n",
       "      )\n",
       "    )\n",
       "    (norm): LayerNorm()\n",
       "  )\n",
       "  (decoder): Decoder(\n",
       "    (layers): ModuleList(\n",
       "      (0): DecoderLayer(\n",
       "        (self_attn): MultiHeadedAttention(\n",
       "          (linear_q): Linear(in_features=512, out_features=512, bias=True)\n",
       "          (linear_k): Linear(in_features=512, out_features=512, bias=True)\n",
       "          (linear_v): Linear(in_features=512, out_features=512, bias=True)\n",
       "          (linear_o): Linear(in_features=512, out_features=512, bias=True)\n",
       "          (dropout): Dropout(p=0.1, inplace=False)\n",
       "        )\n",
       "        (src_attn): MultiHeadedAttention(\n",
       "          (linear_q): Linear(in_features=512, out_features=512, bias=True)\n",
       "          (linear_k): Linear(in_features=512, out_features=512, bias=True)\n",
       "          (linear_v): Linear(in_features=512, out_features=512, bias=True)\n",
       "          (linear_o): Linear(in_features=512, out_features=512, bias=True)\n",
       "          (dropout): Dropout(p=0.1, inplace=False)\n",
       "        )\n",
       "        (feed_forward): PositionwiseFeedForward(\n",
       "          (w_1): Linear(in_features=512, out_features=2048, bias=True)\n",
       "          (w_2): Linear(in_features=2048, out_features=512, bias=True)\n",
       "          (dropout): Dropout(p=0.1, inplace=False)\n",
       "        )\n",
       "        (sublayer): ModuleList(\n",
       "          (0): SublayerConnection(\n",
       "            (norm): LayerNorm()\n",
       "            (dropout): Dropout(p=0.1, inplace=False)\n",
       "          )\n",
       "          (1): SublayerConnection(\n",
       "            (norm): LayerNorm()\n",
       "            (dropout): Dropout(p=0.1, inplace=False)\n",
       "          )\n",
       "          (2): SublayerConnection(\n",
       "            (norm): LayerNorm()\n",
       "            (dropout): Dropout(p=0.1, inplace=False)\n",
       "          )\n",
       "        )\n",
       "      )\n",
       "      (1): DecoderLayer(\n",
       "        (self_attn): MultiHeadedAttention(\n",
       "          (linear_q): Linear(in_features=512, out_features=512, bias=True)\n",
       "          (linear_k): Linear(in_features=512, out_features=512, bias=True)\n",
       "          (linear_v): Linear(in_features=512, out_features=512, bias=True)\n",
       "          (linear_o): Linear(in_features=512, out_features=512, bias=True)\n",
       "          (dropout): Dropout(p=0.1, inplace=False)\n",
       "        )\n",
       "        (src_attn): MultiHeadedAttention(\n",
       "          (linear_q): Linear(in_features=512, out_features=512, bias=True)\n",
       "          (linear_k): Linear(in_features=512, out_features=512, bias=True)\n",
       "          (linear_v): Linear(in_features=512, out_features=512, bias=True)\n",
       "          (linear_o): Linear(in_features=512, out_features=512, bias=True)\n",
       "          (dropout): Dropout(p=0.1, inplace=False)\n",
       "        )\n",
       "        (feed_forward): PositionwiseFeedForward(\n",
       "          (w_1): Linear(in_features=512, out_features=2048, bias=True)\n",
       "          (w_2): Linear(in_features=2048, out_features=512, bias=True)\n",
       "          (dropout): Dropout(p=0.1, inplace=False)\n",
       "        )\n",
       "        (sublayer): ModuleList(\n",
       "          (0): SublayerConnection(\n",
       "            (norm): LayerNorm()\n",
       "            (dropout): Dropout(p=0.1, inplace=False)\n",
       "          )\n",
       "          (1): SublayerConnection(\n",
       "            (norm): LayerNorm()\n",
       "            (dropout): Dropout(p=0.1, inplace=False)\n",
       "          )\n",
       "          (2): SublayerConnection(\n",
       "            (norm): LayerNorm()\n",
       "            (dropout): Dropout(p=0.1, inplace=False)\n",
       "          )\n",
       "        )\n",
       "      )\n",
       "    )\n",
       "    (norm): LayerNorm()\n",
       "  )\n",
       "  (src_embed): Sequential(\n",
       "    (0): Embeddings(\n",
       "      (emb): Embedding(11, 512)\n",
       "    )\n",
       "    (1): PositionalEncoding(\n",
       "      (dropout): Dropout(p=0.1, inplace=False)\n",
       "    )\n",
       "  )\n",
       "  (tgt_embed): Sequential(\n",
       "    (0): Embeddings(\n",
       "      (emb): Embedding(11, 512)\n",
       "    )\n",
       "    (1): PositionalEncoding(\n",
       "      (dropout): Dropout(p=0.1, inplace=False)\n",
       "    )\n",
       "  )\n",
       "  (proj): Linear(in_features=512, out_features=11, bias=True)\n",
       "  (logsoftmax): LogSoftmax(dim=-1)\n",
       ")"
      ]
     },
     "execution_count": 59,
     "metadata": {},
     "output_type": "execute_result"
    }
   ],
   "source": [
    "model"
   ]
  },
  {
   "cell_type": "markdown",
   "metadata": {
    "id": "cvBntKxpOIx7"
   },
   "source": [
    "## Learning rate schedule\n",
    "\n",
    "Обучение трансформера вещь достаточно специфичная, поэтому стоит учесть все детали. В частности, одной из таких деталей является политика изменения learning rate.\n",
    "\n",
    "Предлагается обновлять learning_rate согласно формуле. \n",
    "\n",
    "$$\n",
    "lrate = d_{model}^{-0.5} \\cdot \\min(step\\_num^{ - 0.5}, step\\_num \\cdot warmup\\_steps^{- 1.5})\n",
    "$$\n",
    "\n",
    "Т.е. $lrate$ возрастает линейно в течение $warmup\\_steps$ шагов, а затем убывает.\n",
    "\n",
    "В статье, $warmup\\_steps = 4000$.\n",
    " "
   ]
  },
  {
   "cell_type": "code",
   "execution_count": 60,
   "metadata": {
    "executionInfo": {
     "elapsed": 228,
     "status": "ok",
     "timestamp": 1637853019834,
     "user": {
      "displayName": "Filipp Nikitin",
      "photoUrl": "https://lh3.googleusercontent.com/a-/AOh14Gib7R6zFSdJ1Mn4MWbQTRjNvdPBqipg3uQtaNBFNg=s64",
      "userId": "00003629133353694743"
     },
     "user_tz": -180
    },
    "id": "13gl-SgP9YOt"
   },
   "outputs": [],
   "source": [
    "# https://stackoverflow.com/questions/65343377/adam-optimizer-with-warmup-on-pytorch\n",
    "\n",
    "class NoamOpt:\n",
    "    \"Optim wrapper that implements rate.\"\n",
    "    def __init__(self, model_size, warmup, optimizer):\n",
    "        self.optimizer = optimizer\n",
    "        self._step = 0\n",
    "        self.warmup = warmup\n",
    "        self.model_size = model_size\n",
    "        self._rate = 0\n",
    "    \n",
    "    def state_dict(self):\n",
    "        \"\"\"Returns the state of the warmup scheduler as a :class:`dict`.\n",
    "        It contains an entry for every variable in self.__dict__ which\n",
    "        is not the optimizer.\n",
    "        \"\"\"\n",
    "        return {key: value for key, value in self.__dict__.items() if key != 'optimizer'}\n",
    "    \n",
    "    def load_state_dict(self, state_dict):\n",
    "        \"\"\"Loads the warmup scheduler's state.\n",
    "        Arguments:\n",
    "            state_dict (dict): warmup scheduler state. Should be an object returned\n",
    "                from a call to :meth:`state_dict`.\n",
    "        \"\"\"\n",
    "        self.__dict__.update(state_dict) \n",
    "        \n",
    "    def step(self):\n",
    "        \"Update parameters and rate\"\n",
    "        self._step += 1\n",
    "        rate = self.rate()\n",
    "        for p in self.optimizer.param_groups:\n",
    "            p['lr'] = rate\n",
    "        self._rate = rate\n",
    "        self.optimizer.step()\n",
    "        \n",
    "    def rate(self, step = None):\n",
    "        \"Implement `lrate` above\"\n",
    "        if step is None:\n",
    "            step = self._step\n",
    "        return (self.model_size ** (-0.5) *\n",
    "            min(step ** (-0.5), step * self.warmup ** (-1.5))) "
   ]
  },
  {
   "cell_type": "markdown",
   "metadata": {
    "id": "Dwf6L5hcUYhH"
   },
   "source": [
    "Посмотрим на графике, как изменяется learning_rate."
   ]
  },
  {
   "cell_type": "code",
   "execution_count": 61,
   "metadata": {
    "colab": {
     "base_uri": "https://localhost:8080/",
     "height": 374
    },
    "executionInfo": {
     "elapsed": 736,
     "status": "ok",
     "timestamp": 1637853022606,
     "user": {
      "displayName": "Filipp Nikitin",
      "photoUrl": "https://lh3.googleusercontent.com/a-/AOh14Gib7R6zFSdJ1Mn4MWbQTRjNvdPBqipg3uQtaNBFNg=s64",
      "userId": "00003629133353694743"
     },
     "user_tz": -180
    },
    "id": "kJDTZ0Bh9Obq",
    "outputId": "fd63e965-85bb-4efb-c3d2-5b95269f69b9"
   },
   "outputs": [
    {
     "data": {
      "image/png": "[encoded data removed]",
      "text/plain": [
       "<Figure size 576x432 with 1 Axes>"
      ]
     },
     "metadata": {
      "needs_background": "light"
     },
     "output_type": "display_data"
    }
   ],
   "source": [
    "plt.figure(figsize=(8, 6))\n",
    "for warm_up in [2000., 4000.]:\n",
    "    for model_dim in [256., 512.]:\n",
    "        sch = NoamOpt(model_dim, warm_up, optimizer=None)\n",
    "\n",
    "        x = list(range(1, 10000))\n",
    "        y = [sch.rate(i) for i in x]\n",
    "        plt.plot(x, y, label=f\"Model dim - {model_dim}, Warm Up steps - {warm_up}\")\n",
    "plt.grid()\n",
    "plt.legend()\n",
    "plt.show()"
   ]
  },
  {
   "cell_type": "markdown",
   "metadata": {
    "id": "_VBsB-k-UhJv"
   },
   "source": [
    "## Вспомогательные функции для обучения"
   ]
  },
  {
   "cell_type": "code",
   "execution_count": 62,
   "metadata": {
    "executionInfo": {
     "elapsed": 214,
     "status": "ok",
     "timestamp": 1637853025010,
     "user": {
      "displayName": "Filipp Nikitin",
      "photoUrl": "https://lh3.googleusercontent.com/a-/AOh14Gib7R6zFSdJ1Mn4MWbQTRjNvdPBqipg3uQtaNBFNg=s64",
      "userId": "00003629133353694743"
     },
     "user_tz": -180
    },
    "id": "lwrPV8_j2r6g"
   },
   "outputs": [],
   "source": [
    "class EmptyContext:\n",
    "    def __enter__(self):\n",
    "        pass\n",
    "    def __exit__(self, type, value, traceback):\n",
    "        pass"
   ]
  },
  {
   "cell_type": "code",
   "execution_count": 63,
   "metadata": {
    "executionInfo": {
     "elapsed": 6,
     "status": "ok",
     "timestamp": 1637853026106,
     "user": {
      "displayName": "Filipp Nikitin",
      "photoUrl": "https://lh3.googleusercontent.com/a-/AOh14Gib7R6zFSdJ1Mn4MWbQTRjNvdPBqipg3uQtaNBFNg=s64",
      "userId": "00003629133353694743"
     },
     "user_tz": -180
    },
    "id": "smriR6P428Ea"
   },
   "outputs": [],
   "source": [
    "def perform_epoch(model, loader, criterion,\n",
    "                  optimizer=None, device=None, scheduler=None, \n",
    "                  max_grad_norm=None):\n",
    "    is_train = optimizer is not None\n",
    "    model = model.to(device)\n",
    "    if is_train:  \n",
    "        model.train()\n",
    "    else:\n",
    "        model.eval()\n",
    "\n",
    "    total_loss = 0\n",
    "    total_acc = 0\n",
    "    total_n = 0\n",
    "    with EmptyContext() if is_train else torch.no_grad():\n",
    "        for batch in loader:\n",
    "            batch = [b.to(device) for b in batch]\n",
    "\n",
    "            src, src_mask, tgt, tgt_mask, tgt_y, n_tokens = batch\n",
    "       \n",
    "            model_answers = model(src, tgt, src_mask, tgt_mask)\n",
    "            new_loss = criterion(model_answers.permute(0, 2, 1), tgt_y)/n_tokens.sum()\n",
    "            if is_train:\n",
    "              optimizer.zero_grad()\n",
    "              new_loss.backward()\n",
    "              \n",
    "              if max_grad_norm is not None:\n",
    "                clip_grad_norm_(model.parameters(), max_grad_norm)\n",
    "              optimizer.step() \n",
    "              if scheduler is not None:\n",
    "                scheduler.step()\n",
    "\n",
    "            one_batch_loss = float(new_loss)\n",
    "            total_loss += one_batch_loss\n",
    "            total_n += 1 \n",
    "        return total_loss / total_n"
   ]
  },
  {
   "cell_type": "code",
   "execution_count": 64,
   "metadata": {
    "executionInfo": {
     "elapsed": 226,
     "status": "ok",
     "timestamp": 1637853027337,
     "user": {
      "displayName": "Filipp Nikitin",
      "photoUrl": "https://lh3.googleusercontent.com/a-/AOh14Gib7R6zFSdJ1Mn4MWbQTRjNvdPBqipg3uQtaNBFNg=s64",
      "userId": "00003629133353694743"
     },
     "user_tz": -180
    },
    "id": "Va6-aEpw1GQa"
   },
   "outputs": [],
   "source": [
    "device = torch.device('cuda' if torch.cuda.is_available() else 'cpu')\n",
    "max_grad_norm = 10.\n",
    "num_epoches = 21\n",
    "warmup = 40\n",
    "\n",
    "d_model = 512\n",
    "d_ff = 2048\n",
    "num_layers = 2\n",
    "h = 2\n",
    "\n",
    "src_vocab = tgt_vocab = 11"
   ]
  },
  {
   "cell_type": "code",
   "execution_count": 65,
   "metadata": {
    "executionInfo": {
     "elapsed": 554,
     "status": "ok",
     "timestamp": 1637853028964,
     "user": {
      "displayName": "Filipp Nikitin",
      "photoUrl": "https://lh3.googleusercontent.com/a-/AOh14Gib7R6zFSdJ1Mn4MWbQTRjNvdPBqipg3uQtaNBFNg=s64",
      "userId": "00003629133353694743"
     },
     "user_tz": -180
    },
    "id": "Ae0HfbNP01Ld"
   },
   "outputs": [],
   "source": [
    "model = Transformer(src_vocab, tgt_vocab, h=h, d_model=d_model,\n",
    "         d_ff=d_ff, dropout=0.1, num_layers=num_layers)\n",
    "optimizer = torch.optim.Adam(model.parameters(), lr=0, betas=(0.9, 0.98), eps=1e-9)\n",
    "scheduler = NoamOpt(d_model, warmup, optimizer)\n",
    "criterion = nn.CrossEntropyLoss()"
   ]
  },
  {
   "cell_type": "code",
   "execution_count": 66,
   "metadata": {
    "colab": {
     "base_uri": "https://localhost:8080/"
    },
    "executionInfo": {
     "elapsed": 1261155,
     "status": "ok",
     "timestamp": 1637854291307,
     "user": {
      "displayName": "Filipp Nikitin",
      "photoUrl": "https://lh3.googleusercontent.com/a-/AOh14Gib7R6zFSdJ1Mn4MWbQTRjNvdPBqipg3uQtaNBFNg=s64",
      "userId": "00003629133353694743"
     },
     "user_tz": -180
    },
    "id": "5R9XgX3e9v6m",
    "outputId": "c99d5498-1e74-422f-d8ae-7be4c9c6101b"
   },
   "outputs": [
    {
     "name": "stdout",
     "output_type": "stream",
     "text": [
      "Epoch - 0 : loss 0.01338926880271174\n",
      "Current learning rate: 0.005590169943749474\n",
      "Epoch - 1 : loss 0.012178777775261551\n",
      "Current learning rate: 0.005524271728019903\n",
      "Epoch - 2 : loss 0.009359798830701038\n",
      "Current learning rate: 0.004510548978043952\n",
      "Epoch - 3 : loss 0.009327767184004188\n",
      "Current learning rate: 0.003906250000000001\n",
      "Epoch - 4 : loss 0.008985934473457746\n",
      "Current learning rate: 0.0034938562148434217\n",
      "Epoch - 5 : loss 0.008953454525908455\n",
      "Current learning rate: 0.00318943976924893\n",
      "Epoch - 6 : loss 0.008906796487281099\n",
      "Current learning rate: 0.002952847445384588\n",
      "Epoch - 7 : loss 0.008838008987368084\n",
      "Current learning rate: 0.0027621358640099515\n",
      "Epoch - 8 : loss 0.00877643957210239\n",
      "Current learning rate: 0.002604166666666667\n",
      "Epoch - 9 : loss 0.008754045309615321\n",
      "Current learning rate: 0.0024705294220065464\n",
      "Epoch - 10 : loss 0.008697787081473507\n",
      "Current learning rate: 0.0023555573795137784\n",
      "Epoch - 11 : loss 0.008706962180440314\n",
      "Current learning rate: 0.002255274489021976\n",
      "Epoch - 12 : loss 0.008619063082733192\n",
      "Current learning rate: 0.0021667976415048014\n",
      "Epoch - 13 : loss 0.00859030599531252\n",
      "Current learning rate: 0.0020879784524408156\n",
      "Epoch - 14 : loss 0.008604296905105002\n",
      "Current learning rate: 0.002017178826149696\n",
      "Epoch - 15 : loss 0.008556561835575849\n",
      "Current learning rate: 0.0019531250000000004\n",
      "Epoch - 16 : loss 0.00852153348387219\n",
      "Current learning rate: 0.0018948095705963515\n",
      "Epoch - 17 : loss 0.008469696913380176\n",
      "Current learning rate: 0.0018414239093399675\n",
      "Epoch - 18 : loss 0.008459434189717285\n",
      "Current learning rate: 0.001792310420863764\n",
      "Epoch - 19 : loss 0.008462277837679721\n",
      "Current learning rate: 0.0017469281074217109\n",
      "Epoch - 20 : loss 0.008412914306973107\n",
      "Current learning rate: 0.0017048272674686905\n"
     ]
    }
   ],
   "source": [
    "for epoch in range(num_epoches):\n",
    "    loss = perform_epoch(model, train_loader, criterion, optimizer=optimizer, device=device, max_grad_norm=max_grad_norm, scheduler=scheduler)\n",
    "    \n",
    "    print(f\"Epoch - {epoch} : loss {loss}\")\n",
    "    print(f\"Current learning rate: {optimizer.param_groups[0]['lr']}\")"
   ]
  },
  {
   "cell_type": "markdown",
   "metadata": {
    "id": "h98xyoiepkeY"
   },
   "source": [
    "На этом на сегодня все!\n",
    "Всем обучаемых трансформеров (:"
   ]
  },
  {
   "cell_type": "markdown",
   "metadata": {
    "executionInfo": {
     "elapsed": 19,
     "status": "ok",
     "timestamp": 1637854291307,
     "user": {
      "displayName": "Filipp Nikitin",
      "photoUrl": "https://lh3.googleusercontent.com/a-/AOh14Gib7R6zFSdJ1Mn4MWbQTRjNvdPBqipg3uQtaNBFNg=s64",
      "userId": "00003629133353694743"
     },
     "user_tz": -180
    },
    "id": "CphZsHK2peUT"
   },
   "source": [
    "# Выводы:\n",
    "\n",
    "1. Transfomer обладает потенциалом для понимания взаимосвязи между последовательными элементами, которые находятся далеко друг от друга.\n",
    "\n",
    "2. Transformer гораздо более точны.\n",
    "\n",
    "3. Transformer уделяют одинаковое внимание всем элементам в последовательности.\n",
    "\n",
    "4. Transformer могут обрабатывать и обучать больше данных за меньшее время.\n",
    "\n",
    "5. Transformer Они могут работать практически с любым типом последовательных данных.\n",
    "\n",
    "6. Transfomer помогают в обнаружении аномалий."
   ]
  },
  {
   "cell_type": "code",
   "execution_count": null,
   "metadata": {},
   "outputs": [],
   "source": []
  }
 ],
 "metadata": {
  "accelerator": "GPU",
  "colab": {
   "collapsed_sections": [],
   "name": "Семинар 11. Transformer.ipynb",
   "provenance": [
    {
     "file_id": "13NApulPadVfD7YWooTSh3YZdrLpY8nFX",
     "timestamp": 1637784418425
    }
   ]
  },
  "kernelspec": {
   "display_name": "Python 3 (ipykernel)",
   "language": "python",
   "name": "python3"
  },
  "language_info": {
   "codemirror_mode": {
    "name": "ipython",
    "version": 3
   },
   "file_extension": ".py",
   "mimetype": "text/x-python",
   "name": "python",
   "nbconvert_exporter": "python",
   "pygments_lexer": "ipython3",
   "version": "3.8.10"
  }
 },
 "nbformat": 4,
 "nbformat_minor": 4
}
